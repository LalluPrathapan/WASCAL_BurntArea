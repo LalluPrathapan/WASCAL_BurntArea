{
 "cells": [
  {
   "cell_type": "code",
   "execution_count": null,
   "id": "8cab4760-d0ba-4ac4-91f1-3d2aa73a60d5",
   "metadata": {},
   "outputs": [],
   "source": [
    "import datacube\n",
    "from datetime import datetime\n",
    "from datetime import timedelta\n",
    "import pandas as pd\n",
    "import xarray as xr\n",
    "import numpy as np\n",
    "import matplotlib.pyplot as plt\n",
    "from zipfile import ZipFile\n",
    "import geopandas as gpd\n",
    "from pyproj import Proj, transform\n",
    "from datacube.utils.cog import write_cog\n",
    "from odc.ui import with_ui_cbk\n",
    "\n",
    "from deafrica_tools.datahandling import load_ard, mostcommon_crs\n",
    "from deafrica_tools.plotting import rgb, display_map\n",
    "from deafrica_tools.bandindices import calculate_indices"
   ]
  },
  {
   "cell_type": "code",
   "execution_count": null,
   "id": "d2e2ded9-22c2-480b-9f5d-24bff0c8894e",
   "metadata": {},
   "outputs": [],
   "source": [
    "dc = datacube.Datacube(app=\"Burnt_area_mapping\")"
   ]
  },
  {
   "cell_type": "code",
   "execution_count": null,
   "id": "9d19e5d7-aac7-42ae-8528-e82bb3e342fc",
   "metadata": {},
   "outputs": [],
   "source": [
    "# Define the area of interest\n",
    "lat = 11.69 #12.016\n",
    "lon = -4.425 #-4.475\n",
    "buffer = 0.1\n",
    "\n",
    "# Compute the bounding box for the study area\n",
    "lat_range = (lat-buffer, lat+buffer)\n",
    "lon_range = (lon-buffer, lon+buffer)"
   ]
  },
  {
   "cell_type": "code",
   "execution_count": null,
   "id": "2df66904-7d41-4e33-9fad-8a4b945b7e4c",
   "metadata": {},
   "outputs": [],
   "source": [
    "a = int(input(\"How many years should be processed?\"))\n",
    "#b = int(input(\"Start year:\"))"
   ]
  },
  {
   "cell_type": "code",
   "execution_count": null,
   "id": "9a41626f-9758-4ad7-8248-8a6cbd7da8b1",
   "metadata": {},
   "outputs": [],
   "source": [
    "start_date_pre = '2017-10-01'\n",
    "end_date_pre='2017-12-01'\n",
    "start_date_post ='2018-04-01'\n",
    "end_date_post='2018-05-01'"
   ]
  },
  {
   "cell_type": "code",
   "execution_count": null,
   "id": "20c605a0-d914-46b9-816a-a92f7b79443c",
   "metadata": {},
   "outputs": [],
   "source": []
  },
  {
   "cell_type": "code",
   "execution_count": null,
   "id": "7e60ecb4-e7ff-4e6e-9d12-5486eb9d2ac6",
   "metadata": {},
   "outputs": [],
   "source": []
  },
  {
   "cell_type": "code",
   "execution_count": null,
   "id": "0543a18f-7412-4eef-85a9-1a2a2e67713b",
   "metadata": {},
   "outputs": [],
   "source": [
    "# Define load parameters\n",
    "resolution = (-30, 30)\n",
    "measurements = ['blue', 'green', 'red',\n",
    "                'nir', 'swir_1', 'swir_2', 'pixel_quality', 'radiometric_saturation']\n",
    "#collection_category='T1'\n",
    "min_gooddata = 0.6"
   ]
  },
  {
   "cell_type": "code",
   "execution_count": null,
   "id": "24d6532f-5e93-47bd-b5ae-dd01c3807e9b",
   "metadata": {},
   "outputs": [],
   "source": [
    "# Choose the Landsat 8 products to load\n",
    "products = [\"ls8_sr\"]\n",
    "\n",
    "# Create a reusable query\n",
    "query = {\n",
    "    \"x\": lon_range,\n",
    "    \"y\": lat_range,\n",
    "    \"resolution\": resolution,\n",
    "    \"measurements\": measurements, \n",
    "    \"output_crs\" : \"EPSG:6933\"\n",
    "}\n",
    "# Since this analysis calculates pixel areas,\n",
    "# set the output projection to equal area projection EPSG:6933\n"
   ]
  },
  {
   "cell_type": "code",
   "execution_count": null,
   "id": "eb201a7e-e841-43ad-bf0b-7be82afcd64c",
   "metadata": {},
   "outputs": [],
   "source": [
    "type(baseline_ard)\n",
    "baseline_ard.to_array()"
   ]
  },
  {
   "cell_type": "code",
   "execution_count": null,
   "id": "f59bc7ef-f79d-4a32-88c1-289e4263e391",
   "metadata": {},
   "outputs": [],
   "source": [
    "baseline_nbr_all.\n",
    "baseline_nbr_all"
   ]
  },
  {
   "cell_type": "code",
   "execution_count": null,
   "id": "863a9a7d-a5c7-4aad-a1b3-7908e63b7c9f",
   "metadata": {},
   "outputs": [],
   "source": [
    "while i < a-1:\n",
    "\n",
    "    # Load all data in basline period avalible from ARD data\n",
    "    baseline_ard = load_ard(dc=dc,\n",
    "                            products=products,\n",
    "                            time=(start_date_pre,end_date_pre),\n",
    "                            min_gooddata=min_gooddata,\n",
    "                            group_by='solar_day',\n",
    "                            #collection_category=collection_category,\n",
    "                            **query)\n",
    "\n",
    "    # Calculate NBR for the baseline images\n",
    "    baseline_ard = calculate_indices(baseline_ard,\n",
    "                                     index='NBR',\n",
    "                                     collection='c2',\n",
    "                                     drop=False)\n",
    "    if i==0:\n",
    "        baseline_nbr_all = baseline_ard.to_array()\n",
    "    else:\n",
    "        baseline_nbr_all = baseline_nbr_all.concat(baseline_ard)\n",
    "        \n",
    "        \n",
    "        \n",
    "    \n",
    "    # Compute median using all observations in the dataset along the time axis\n",
    "    baseline_image = baseline_ard.median(dim='time')\n",
    "    baseline_image_min = baseline_ard.min(dim='time')\n",
    "\n",
    "    # Select NBR\n",
    "    baseline_NBR = baseline_image.NBR\n",
    "    baseline_NBR_min = baseline_image_min.NBR\n",
    "\n",
    "\n",
    "\n",
    "    \"\"\"\n",
    "    # Calculate the start and end date for baseline data load\n",
    "    start_date_pre = datetime.strftime(((datetime.strptime(fire_date, '%Y-%m-%d'))+timedelta(year=1)), '%Y-%m-%d')\n",
    "    end_date_pre = datetime.strftime(((datetime.strptime(fire_date, '%Y-%m-%d'))+timedelta(year=1)), '%Y-%m-%d')\n",
    "\n",
    "    # Calculate end date for post fire data load\n",
    "    start_date_post = datetime.strftime(((datetime.strptime(fire_date, '%Y-%m-%d'))+timedelta(year=1)), '%Y-%m-%d')\n",
    "    end_date_post = datetime.strftime(((datetime.strptime(fire_date, '%Y-%m-%d'))+timedelta(year=1)), '%Y-%m-%d')\n",
    "    \"\"\"\n",
    "    i += 1"
   ]
  }
 ],
 "metadata": {
  "kernelspec": {
   "display_name": "Python 3 (ipykernel)",
   "language": "python",
   "name": "python3"
  },
  "language_info": {
   "codemirror_mode": {
    "name": "ipython",
    "version": 3
   },
   "file_extension": ".py",
   "mimetype": "text/x-python",
   "name": "python",
   "nbconvert_exporter": "python",
   "pygments_lexer": "ipython3",
   "version": "3.9.7"
  }
 },
 "nbformat": 4,
 "nbformat_minor": 5
}
