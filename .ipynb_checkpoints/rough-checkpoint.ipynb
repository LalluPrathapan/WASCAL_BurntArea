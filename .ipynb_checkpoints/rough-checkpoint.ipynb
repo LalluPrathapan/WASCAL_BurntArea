{
 "cells": [
  {
   "cell_type": "code",
   "execution_count": null,
   "id": "836ca1e7-3481-49d8-b306-69228e997be6",
   "metadata": {},
   "outputs": [],
   "source": [
    "#working with gpk file\n",
    "data=gpd.read_file(\"merged2.gpkg\")\n",
    "data.head"
   ]
  },
  {
   "cell_type": "code",
   "execution_count": null,
   "id": "7c039aa4-a1ab-478f-903d-05151b040f65",
   "metadata": {},
   "outputs": [],
   "source": [
    "#working with shape file\n",
    "import shapely as shp\n",
    "sf=shp.Reader(\"date_merged\")\n",
    "print(sf)\n",
    "len(sf.shapes())\n",
    "#sf.records()"
   ]
  },
  {
   "cell_type": "code",
   "execution_count": null,
   "id": "5189c082-e357-4ea3-ae2c-fcc1558f0031",
   "metadata": {},
   "outputs": [],
   "source": [
    "data_csv=pd.read_csv('merged_csv.csv')\n",
    "#print(data_csv)\n",
    "type(data_csv)\n",
    "#data_csv.head()"
   ]
  },
  {
   "cell_type": "code",
   "execution_count": null,
   "id": "971197e0-6053-4eeb-9a0d-569a0979cf05",
   "metadata": {},
   "outputs": [],
   "source": [
    "# converting to dataframe\n",
    "df=pd.DataFrame(data_csv)\n",
    "type(df)"
   ]
  },
  {
   "cell_type": "code",
   "execution_count": null,
   "id": "f6d12cee-d2af-461d-a352-9c6220bc2680",
   "metadata": {},
   "outputs": [],
   "source": [
    "#converting to geodataframe\n",
    "import geopandas as gpd\n",
    "gdf=gpd.GeoDataFrame(data_csv, geometry=gpd.points_from_xy(data_csv.LONGITUDE,data_csv.LATITUDE))\n",
    "type(gdf)\n",
    "#print(gdf.head())"
   ]
  },
  {
   "cell_type": "code",
   "execution_count": null,
   "id": "2ef78130-8d41-4134-b1f3-fa7c71411ba6",
   "metadata": {},
   "outputs": [],
   "source": [
    "gdf.crs"
   ]
  },
  {
   "cell_type": "code",
   "execution_count": null,
   "id": "3666a194-8323-469b-a202-6a4871d8d386",
   "metadata": {},
   "outputs": [],
   "source": [
    "#plotting geodataframe hotspots\n",
    "#gdf.plot()"
   ]
  },
  {
   "cell_type": "code",
   "execution_count": null,
   "id": "dde4539e-7db8-486a-98df-4302f12a24fb",
   "metadata": {},
   "outputs": [],
   "source": [
    "#world = geopandas.read_file(geopandas.datasets.get_path('naturalearth_lowres'))\n",
    "# Define the area of interest\n",
    "lat = 10.338\n",
    "lon = -1.055\n",
    "buffer = 0.1\n",
    "\n",
    "# Compute the bounding box for the study area\n",
    "\n",
    "lat_range = (lat-buffer, lat+buffer)\n",
    "lon_range = (lon-buffer, lon+buffer)\n",
    "\n",
    "a=lat-buffer\n",
    "b=lat+buffer\n",
    "c=lon-buffer\n",
    "d=lon+buffer\n",
    "print(a)\n",
    "print(b)\n",
    "print(c)\n",
    "print(d)\n",
    "\n",
    "data = {'lat_range': [10.238,10.4379999], 'lon_range': [-1.155,-0.955]}  \n",
    "l_df=pd.DataFrame(data)\n",
    "print(l_df)\n",
    "type(l_df)\n",
    "l_df.head()\n",
    "\n",
    "\n",
    "from shapely.geometry import Point\n",
    "\n",
    "# combine lat and lon column to a shapely Point() object\n",
    "#l_df['geometry'] = l_df.apply(lambda x: Point((float(x.lon_range), float(x.lat_range))), axis=1)\n",
    "\n",
    "#l_df = gpd.GeoDataFrame(l_df, geometry='geometry')\n",
    "\n",
    "#l_df.to_file('MyGeometries.shp', driver='ESRI Shapefile')\n",
    "\n",
    "#mygeom=shp.Reader(\"MyGeometries.shp\")\n",
    "#(\n",
    "#print(mygeom)\n",
    "#print(mygeom.head())\n",
    "#def export_data(MyGeometries.shp)\n",
    "  \n",
    "# Create DataFrame  \n",
    "#df = pd.DataFrame(data) \n",
    "\n",
    "#display_map(x=lon_range, y=lat_range)\n",
    "\n",
    "\n",
    "#ax = world[world.continent == 'Africa'].plot(\n",
    "    #color='white', edgecolor='black')\n",
    "\n",
    "# We can now plot our ``GeoDataFrame``.\n",
    "#gdf.plot(ax=data, color='red')\n",
    "\n",
    "\n",
    "#clip=gdf.clip("
   ]
  },
  {
   "cell_type": "code",
   "execution_count": null,
   "id": "8d184603-bde3-435d-b19f-27e76db215c5",
   "metadata": {},
   "outputs": [],
   "source": [
    "creating a polygon for the area of interest\n",
    "from shapely import geometry\n",
    "x=lon_range,y=lat_range\n",
    "Pointlist[x,y]\n",
    "poly=geometry.Polygon(Pointlist)"
   ]
  },
  {
   "cell_type": "code",
   "execution_count": null,
   "id": "44e29032-318a-43f5-8408-d713860a77b5",
   "metadata": {},
   "outputs": [],
   "source": [
    "from shapely import geometry\n",
    "import matplotlib.pyplot as plt\n",
    "p1=geometry.Point(11.6179,-4.4818)\n",
    "p2=geometry.Point(11.7729,-4.4818)\n",
    "p3=geometry.Point(11.7729,-4.3060)\n",
    "p4=geometry.Point(11.6179,-4.3060)\n",
    "pointList=[p1,p2,p3,p4,p1]\n",
    "poly=geometry.Polygon(pointList)\n",
    "type(poly)\n",
    "poly"
   ]
  },
  {
   "cell_type": "code",
   "execution_count": null,
   "id": "9f30e6c5-f030-4d27-8fa9-15ca236f014e",
   "metadata": {},
   "outputs": [],
   "source": [
    "# projecting polygon bounding box to crs **** not mandatory\n",
    "world=gpd.read_file(gpd.datasets.get_path(\"naturalearth_lowres\"))\n",
    "poly_gdf=gpd.GeoDataFrame([1],geometry=[poly],crs=world.crs)\n",
    "type(poly_gdf)\n",
    "poly_gdf.crs"
   ]
  },
  {
   "cell_type": "code",
   "execution_count": null,
   "id": "0448992d-981d-4305-91a3-031810da9d91",
   "metadata": {},
   "outputs": [],
   "source": [
    "type(poly_gdf)"
   ]
  },
  {
   "cell_type": "code",
   "execution_count": null,
   "id": "8630f4ab-6fb2-4191-ae72-c13f4e76df3f",
   "metadata": {},
   "outputs": [],
   "source": [
    "#poly_gdf.to_file('boundingbox.shp', driver='ESRI Shapefile')\n",
    "#poly_gdf.to_file(driver = 'ESRI Shapefile', filename= \"result.shp\")\n",
    "# or directly"
   ]
  },
  {
   "cell_type": "code",
   "execution_count": null,
   "id": "c48a18fc-4583-4a68-8f02-d1e9d6b64865",
   "metadata": {},
   "outputs": [],
   "source": [
    "#creating crs for firms data\n",
    "gdf=gdf.set_crs('epsg:4326')\n",
    "gdf.crs"
   ]
  },
  {
   "cell_type": "code",
   "execution_count": null,
   "id": "38622a06-781c-46d8-9fb8-35f3bd0c684c",
   "metadata": {},
   "outputs": [],
   "source": [
    "#creating shape file for firms data\n",
    "gdf.to_file(\"result2.shp\")"
   ]
  },
  {
   "cell_type": "code",
   "execution_count": null,
   "id": "30773945-7ae9-4bde-89e5-56b4de7a902e",
   "metadata": {},
   "outputs": [],
   "source": [
    "l_gdf=gpd.GeoDataFrame(l_df, geometry=gpd.points_from_xy(l_df.lon_range,l_df.lat_range))\n",
    "l_gdf\n",
    "type(l_gdf)"
   ]
  },
  {
   "cell_type": "code",
   "execution_count": null,
   "id": "e318c856-a5ea-4ff8-8dff-91cdcaafc1db",
   "metadata": {},
   "outputs": [],
   "source": [
    "my_geoseries = l_gdf.set_crs(\"EPSG:4326\")\n",
    "l_gdf.crs\n"
   ]
  },
  {
   "cell_type": "code",
   "execution_count": null,
   "id": "e24c9335-3877-4e8f-b8f2-1882e6e80df7",
   "metadata": {},
   "outputs": [],
   "source": [
    "# creating shape file of the polygon bounding box\n",
    "from osgeo import ogr\n",
    "from shapely.geometry import Polygon\n",
    "\n",
    "# Here's an example Shapely geometry\n",
    "\n",
    "# Now convert it to a shapefile with OGR    \n",
    "driver = ogr.GetDriverByName('Esri Shapefile')\n",
    "ds = driver.CreateDataSource('bb_new.shp')\n",
    "layer = ds.CreateLayer('', None, ogr.wkbPolygon)\n",
    "# Add one attribute\n",
    "layer.CreateField(ogr.FieldDefn('id', ogr.OFTInteger))\n",
    "defn = layer.GetLayerDefn()\n",
    "\n",
    "# Create a new feature (attribute and geometry)\n",
    "feat = ogr.Feature(defn)\n",
    "feat.SetField('id', 123)\n",
    "\n",
    "# Make a geometry, from Shapely object\n",
    "geom = ogr.CreateGeometryFromWkb(poly.wkb)\n",
    "feat.SetGeometry(geom)\n",
    "\n",
    "layer.CreateFeature(feat)\n",
    "feat = geom = None  # destroy these\n",
    "\n",
    "# Save and close everything\n",
    "ds = layer = feat = geom = None"
   ]
  },
  {
   "cell_type": "code",
   "execution_count": null,
   "id": "54c99870-b7db-40cb-8459-64dbfa618314",
   "metadata": {},
   "outputs": [],
   "source": []
  }
 ],
 "metadata": {
  "kernelspec": {
   "display_name": "Python 3 (ipykernel)",
   "language": "python",
   "name": "python3"
  },
  "language_info": {
   "codemirror_mode": {
    "name": "ipython",
    "version": 3
   },
   "file_extension": ".py",
   "mimetype": "text/x-python",
   "name": "python",
   "nbconvert_exporter": "python",
   "pygments_lexer": "ipython3",
   "version": "3.9.7"
  }
 },
 "nbformat": 4,
 "nbformat_minor": 5
}
