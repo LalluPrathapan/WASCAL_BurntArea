{
 "cells": [
  {
   "cell_type": "markdown",
   "id": "f53348d7-5825-4675-b9bb-ec2921e95239",
   "metadata": {},
   "source": [
    "**Project MET5** \n",
    "Lallu \n",
    "Jyoti\n",
    "Ina\n",
    "Magda\n",
    "\n",
    "Burnt Areas in Burkina Faso"
   ]
  },
  {
   "cell_type": "code",
   "execution_count": null,
   "id": "d5ebf38e-9edf-4f9d-8c88-6e95a768f337",
   "metadata": {},
   "outputs": [],
   "source": []
  }
 ],
 "metadata": {
  "kernelspec": {
   "display_name": "Python 3 (ipykernel)",
   "language": "python",
   "name": "python3"
  },
  "language_info": {
   "codemirror_mode": {
    "name": "ipython",
    "version": 3
   },
   "file_extension": ".py",
   "mimetype": "text/x-python",
   "name": "python",
   "nbconvert_exporter": "python",
   "pygments_lexer": "ipython3",
   "version": "3.9.7"
  }
 },
 "nbformat": 4,
 "nbformat_minor": 5
}
