{
 "cells": [
  {
   "cell_type": "markdown",
   "id": "f53348d7-5825-4675-b9bb-ec2921e95239",
   "metadata": {},
   "source": [
    "**Project MET5** \n",
    "Lallu \n",
    "Jyoti\n",
    "Ina\n",
    "Magda\n",
    "\n",
    "Burnt Areas in Burkina Faso"
   ]
  },
  {
   "cell_type": "markdown",
   "id": "330c5096-c6e2-42fd-bf79-7dd75c5a4749",
   "metadata": {},
   "source": [
    "Burnt Area Ratio = (Nir-SWIR)/(NIR+SWIR)"
   ]
  },
  {
   "cell_type": "code",
   "execution_count": null,
   "id": "f0d710dc-3aa4-45ad-b520-91ef629d28e1",
   "metadata": {},
   "outputs": [],
   "source": []
  }
 ],
 "metadata": {
  "kernelspec": {
   "display_name": "Python 3 (ipykernel)",
   "language": "python",
   "name": "python3"
  },
  "language_info": {
   "codemirror_mode": {
    "name": "ipython",
    "version": 3
   },
   "file_extension": ".py",
   "mimetype": "text/x-python",
   "name": "python",
   "nbconvert_exporter": "python",
   "pygments_lexer": "ipython3",
   "version": "3.9.7"
  }
 },
 "nbformat": 4,
 "nbformat_minor": 5
}
